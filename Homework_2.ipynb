{
 "cells": [
  {
   "cell_type": "markdown",
   "metadata": {},
   "source": [
    "## Домашнее задание №2"
   ]
  },
  {
   "cell_type": "code",
   "execution_count": 1,
   "metadata": {},
   "outputs": [],
   "source": [
    "import numpy as np\n",
    "import matplotlib.pyplot as plt\n",
    "plt.rcParams.update({'font.size': 14,\n",
    "                     'xtick.labelsize': 14})"
   ]
  },
  {
   "cell_type": "markdown",
   "metadata": {},
   "source": [
    "1. Сгенерировать датасет при помощи `sklearn.datasets.make_regression` и обучить линейную модель при помощи градиентного спуска и стохастического градиентного спуска. Построить графики среднеквадратичной ошибки от числа итераций для обоих методов на одном рисунке, сделать выводы о разнице скорости сходимости каждого из методов."
   ]
  },
  {
   "cell_type": "markdown",
   "metadata": {},
   "source": [
    "* Функции"
   ]
  },
  {
   "cell_type": "code",
   "execution_count": 2,
   "metadata": {},
   "outputs": [],
   "source": [
    "# Расчет ошибки МНК\n",
    "def calc_mse(y, y_pred):\n",
    "    err = np.mean((y - y_pred)**2)\n",
    "    return err"
   ]
  },
  {
   "cell_type": "code",
   "execution_count": 3,
   "metadata": {},
   "outputs": [],
   "source": [
    "# Метод градиентного спуска\n",
    "def eval_GD(X, y, iterations, alpha=1e-4):\n",
    "    error=[]\n",
    "    np.random.seed(42)\n",
    "    w = np.random.randn(X.shape[1])\n",
    "    n = X.shape[0]\n",
    "    for i in range(1, iterations + 1):\n",
    "        y_pred = np.dot(X, w)\n",
    "        err = calc_mse(y, y_pred)\n",
    "        w -= alpha * (1/n * 2 * np.dot((y_pred - y), X))\n",
    "        error.append(err)\n",
    "        if i % (iterations / 10) == 0:\n",
    "            print(i, w, err)\n",
    "    return w, error"
   ]
  },
  {
   "cell_type": "code",
   "execution_count": 4,
   "metadata": {},
   "outputs": [],
   "source": [
    "# Метод стохастического градиентного спуска\n",
    "# mini-batch GD & SGD\n",
    "def eval_SGD(X, y, iterations, qty_in_batch=1, alpha=1e-4):\n",
    "    error=[]\n",
    "    np.random.seed(42)\n",
    "    w = np.random.randn(X.shape[1]) # начальное приближение весов\n",
    "    n = X.shape[0] # число наблюдений\n",
    "    n_batch = n // qty_in_batch\n",
    "    if n % qty_in_batch != 0:\n",
    "        n_batch += 1\n",
    "    for i in range(1, iterations + 1):\n",
    "        for b in range(n_batch):\n",
    "            start_ = qty_in_batch * b\n",
    "            end_ = qty_in_batch * (b + 1)\n",
    "            X_tmp = X[start_ : end_, :]\n",
    "            y_tmp = y[start_ : end_]\n",
    "            y_pred_tmp = np.dot(X_tmp, w)\n",
    "            err = calc_mse(y_tmp, y_pred_tmp)\n",
    "            w -= alpha * (1/n * 2 * np.dot((y_pred_tmp - y_tmp), X_tmp)) \n",
    "        error.append(err)           \n",
    "        if i % (iterations / 10) == 0:\n",
    "            print(i, w, err)\n",
    "    return w, error"
   ]
  },
  {
   "cell_type": "markdown",
   "metadata": {},
   "source": [
    "* Генерация датасета"
   ]
  },
  {
   "cell_type": "code",
   "execution_count": 5,
   "metadata": {},
   "outputs": [],
   "source": [
    "from sklearn import datasets\n",
    "\n",
    "X, y, coef = datasets.make_regression(n_samples=100, \n",
    "                                      n_features=2, \n",
    "                                      n_informative=2, \n",
    "                                      n_targets=1,\n",
    "                                      noise=5, \n",
    "                                      coef=True, \n",
    "                                      random_state=42)"
   ]
  },
  {
   "cell_type": "code",
   "execution_count": 6,
   "metadata": {},
   "outputs": [
    {
     "data": {
      "text/plain": [
       "array([86.85290273, 74.10093365])"
      ]
     },
     "execution_count": 6,
     "metadata": {},
     "output_type": "execute_result"
    }
   ],
   "source": [
    "np.linalg.inv(X.T @ X) @ X.T @ y"
   ]
  },
  {
   "cell_type": "code",
   "execution_count": 7,
   "metadata": {
    "scrolled": true
   },
   "outputs": [
    {
     "name": "stdout",
     "output_type": "stream",
     "text": [
      "200 [23.10899024 24.70682709] 5612.530257110318\n",
      "400 [39.76433038 41.27899355] 2815.392053802098\n",
      "600 [52.0435046  52.32250207] 1433.9012519426624\n",
      "800 [61.10415082 59.67392808] 744.5492845136567\n",
      "1000 [67.79518742 64.56171984] 396.9953819052217\n",
      "1200 [72.73992955 67.80706573] 219.97271698276\n",
      "1400 [76.39658108 69.95853941] 128.9160344244753\n",
      "1600 [79.10233756 71.38232336] 81.63940331651794\n",
      "1800 [81.105593   72.32264247] 56.87946576693996\n",
      "2000 [82.58949571 72.94222593] 43.808816497014185\n",
      "MSE для метода градиентного спуска - 43.76207218850394\n",
      "\n"
     ]
    }
   ],
   "source": [
    "w_gd, error_gd = eval_GD(X, y, iterations=2000, alpha=1e-3)\n",
    "y_pred = np.dot(X, w_gd)\n",
    "err_gd = calc_mse(y, y_pred)\n",
    "print(f'MSE для метода градиентного спуска - {err_gd}\\n')"
   ]
  },
  {
   "cell_type": "code",
   "execution_count": 8,
   "metadata": {
    "scrolled": false
   },
   "outputs": [
    {
     "name": "stdout",
     "output_type": "stream",
     "text": [
      "200 [23.09499332 24.68670794] 2550.9489151764924\n",
      "400 [39.74374261 41.25205544] 1104.1527423439388\n",
      "600 [52.02076565 52.29546264] 458.13369724494237\n",
      "800 [61.08180093 59.64981322] 176.8724782652302\n",
      "1000 [67.77457042 64.54156602] 59.8371229981769\n",
      "1200 [72.72165257 67.7909023 ] 15.282837471545294\n",
      "1400 [76.38081238 69.94594019] 1.6217528844549083\n",
      "1600 [79.08899689 71.3727043 ] 0.297931973980252\n",
      "1800 [81.09447128 72.3154127 ] 3.2546606854516744\n",
      "2000 [82.5803284  72.93685644] 7.161443154751108\n",
      "MSE для метода стохастического градиентного спуска - 43.83383047295248\n",
      "\n"
     ]
    }
   ],
   "source": [
    "w_sgd, error_sgd = eval_SGD(X, y, iterations=2000, alpha=1e-3)\n",
    "y_pred_sgd = np.dot(X, w_sgd)\n",
    "err_sgd = calc_mse(y, y_pred_sgd)\n",
    "print(f'MSE для метода стохастического градиентного спуска - {err_sgd}\\n')"
   ]
  },
  {
   "cell_type": "markdown",
   "metadata": {},
   "source": [
    "* Графики среднеквадратичной ошибки от числа итераций"
   ]
  },
  {
   "cell_type": "code",
   "execution_count": 9,
   "metadata": {},
   "outputs": [
    {
     "data": {
      "text/plain": [
       "Text(0, 0.5, 'MSE')"
      ]
     },
     "execution_count": 9,
     "metadata": {},
     "output_type": "execute_result"
    },
    {
     "data": {
      "image/png": "[encoded data removed]",
      "text/plain": [
       "<Figure size 936x432 with 1 Axes>"
      ]
     },
     "metadata": {
      "needs_background": "light"
     },
     "output_type": "display_data"
    }
   ],
   "source": [
    "plt.figure(figsize=(13, 6))\n",
    "plt.plot(error_gd, alpha=1)\n",
    "plt.plot(error_sgd, alpha=1)\n",
    "plt.xlabel('Номер итерации')\n",
    "plt.ylabel('MSE')"
   ]
  },
  {
   "cell_type": "markdown",
   "metadata": {},
   "source": [
    "Скорость схождения метода стохастического градиентного спуска выше, при этом обе сходимости значительно зависят от скорости обучения."
   ]
  },
  {
   "cell_type": "markdown",
   "metadata": {},
   "source": [
    "2. Модифицировать решение первого задания путем добавления L2 регуляризации и сравнить результаты.  "
   ]
  },
  {
   "cell_type": "code",
   "execution_count": 10,
   "metadata": {},
   "outputs": [],
   "source": [
    "# Метод градиентного спуска\n",
    "def eval_GD_Ridge(X, y, iterations, alpha=1e-4, lambda_=1e-8):\n",
    "    error=[]\n",
    "    np.random.seed(42)\n",
    "    w = np.random.randn(X.shape[1])\n",
    "    n = X.shape[0]\n",
    "    for i in range(1, iterations + 1):\n",
    "        y_pred = np.dot(X, w)\n",
    "        err = calc_mse(y, y_pred)\n",
    "        w -= alpha * (1/n * 2 * np.dot((y_pred - y), X) + 2 * lambda_ * w)\n",
    "        error.append(err)\n",
    "        if i % (iterations / 10) == 0:\n",
    "            print(i, w, err)\n",
    "    return w, error"
   ]
  },
  {
   "cell_type": "code",
   "execution_count": 11,
   "metadata": {},
   "outputs": [],
   "source": [
    "# Метод стохастического градиентного спуска\n",
    "# mini-batch GD & SGD\n",
    "def eval_SGD_Ridge(X, y, iterations, qty_in_batch=1, alpha=1e-4, lambda_=1e-8):\n",
    "    error=[]\n",
    "    np.random.seed(42)\n",
    "    w = np.random.randn(X.shape[1]) # начальное приближение весов\n",
    "    n = X.shape[0] # число наблюдений\n",
    "    n_batch = n // qty_in_batch\n",
    "    if n % qty_in_batch != 0:\n",
    "        n_batch += 1\n",
    "    for i in range(1, iterations + 1):\n",
    "        for b in range(n_batch):\n",
    "            start_ = qty_in_batch * b\n",
    "            end_ = qty_in_batch * (b + 1)\n",
    "            X_tmp = X[start_ : end_, :]\n",
    "            y_tmp = y[start_ : end_]\n",
    "            y_pred_tmp = np.dot(X_tmp, w)\n",
    "            err = calc_mse(y_tmp, y_pred_tmp)\n",
    "            w -= alpha * (1/n * 2 * np.dot((y_pred_tmp - y_tmp), X_tmp) + 2 * lambda_ * w) \n",
    "        error.append(err)           \n",
    "        if i % (iterations / 10) == 0:\n",
    "            print(i, w, err)\n",
    "    return w, error"
   ]
  },
  {
   "cell_type": "code",
   "execution_count": 12,
   "metadata": {},
   "outputs": [],
   "source": [
    "lambda_Ridge=1e-3"
   ]
  },
  {
   "cell_type": "markdown",
   "metadata": {},
   "source": [
    "* Сравнение результатов"
   ]
  },
  {
   "cell_type": "code",
   "execution_count": 13,
   "metadata": {},
   "outputs": [
    {
     "name": "stdout",
     "output_type": "stream",
     "text": [
      "200 [23.10899024 24.70682709] 5612.530257110318\n",
      "400 [39.76433038 41.27899355] 2815.392053802098\n",
      "600 [52.0435046  52.32250207] 1433.9012519426624\n",
      "800 [61.10415082 59.67392808] 744.5492845136567\n",
      "1000 [67.79518742 64.56171984] 396.9953819052217\n",
      "1200 [72.73992955 67.80706573] 219.97271698276\n",
      "1400 [76.39658108 69.95853941] 128.9160344244753\n",
      "1600 [79.10233756 71.38232336] 81.63940331651794\n",
      "1800 [81.105593   72.32264247] 56.87946576693996\n",
      "2000 [82.58949571 72.94222593] 43.808816497014185\n",
      "Метод градиентного спуска без регуляризации: [82.58949571 72.94222593] MSE: 43.76207218850394\n",
      "\n"
     ]
    }
   ],
   "source": [
    "w_gd, error_gd = eval_GD(X, y, iterations=2000, alpha=1e-3)\n",
    "y_pred = np.dot(X, w_gd)\n",
    "err_gd = calc_mse(y, y_pred)\n",
    "print(f'Метод градиентного спуска без регуляризации: {w_gd} MSE: {err_gd}\\n')"
   ]
  },
  {
   "cell_type": "code",
   "execution_count": 14,
   "metadata": {},
   "outputs": [
    {
     "name": "stdout",
     "output_type": "stream",
     "text": [
      "200 [23.10454258 24.70225471] 5613.4138854808325\n",
      "400 [39.74993498 41.26473343] 2817.369815228588\n",
      "600 [52.01685859 52.29736463] 1436.423516797149\n",
      "800 [61.06483889 59.6386078 ] 747.1260489569207\n",
      "1000 [67.74384524 64.51767399] 399.34097348780654\n",
      "1200 [72.67771955 67.7559287 ] 221.9670693720527\n",
      "1400 [76.32487267 69.90184146] 130.53989151635827\n",
      "1600 [79.02251966 71.32137656] 82.924310470708\n",
      "1800 [81.01897103 72.2585141 ] 57.87678873583528\n",
      "2000 [82.49724127 72.8757539 ] 44.57298555685962\n",
      "Метод градиентного спуска c Ridge регуляризацией: [82.49724127 72.8757539 ] MSE: 44.5252059473217 lambda: 0.001\n",
      "\n"
     ]
    }
   ],
   "source": [
    "w_gd_Ridge, error_gd_Ridge = eval_GD_Ridge(X, y, iterations=2000, alpha=1e-3, lambda_=lambda_Ridge)\n",
    "y_pred_Ridge = np.dot(X, w_gd_Ridge)\n",
    "err_gd_Ridge = calc_mse(y, y_pred_Ridge)\n",
    "print(f'Метод градиентного спуска c Ridge регуляризацией: {w_gd_Ridge} MSE: {err_gd_Ridge} lambda: {lambda_Ridge}\\n')"
   ]
  },
  {
   "cell_type": "code",
   "execution_count": 15,
   "metadata": {},
   "outputs": [
    {
     "name": "stdout",
     "output_type": "stream",
     "text": [
      "200 [23.09499332 24.68670794] 2550.9489151764924\n",
      "400 [39.74374261 41.25205544] 1104.1527423439388\n",
      "600 [52.02076565 52.29546264] 458.13369724494237\n",
      "800 [61.08180093 59.64981322] 176.8724782652302\n",
      "1000 [67.77457042 64.54156602] 59.8371229981769\n",
      "1200 [72.72165257 67.7909023 ] 15.282837471545294\n",
      "1400 [76.38081238 69.94594019] 1.6217528844549083\n",
      "1600 [79.08899689 71.3727043 ] 0.297931973980252\n",
      "1800 [81.09447128 72.3154127 ] 3.2546606854516744\n",
      "2000 [82.5803284  72.93685644] 7.161443154751108\n",
      "MSE для метода стохастического градиентного спуска без регуляризации: [82.5803284  72.93685644] MSE: 43.83383047295248\n",
      "\n"
     ]
    }
   ],
   "source": [
    "w_sgd, error_sgd = eval_SGD(X, y, iterations=2000, alpha=1e-3)\n",
    "y_pred_sgd = np.dot(X, w_sgd)\n",
    "err_sgd = calc_mse(y, y_pred_sgd)\n",
    "print(f'MSE для метода стохастического градиентного спуска без регуляризации: {w_sgd} MSE: {err_sgd}\\n')"
   ]
  },
  {
   "cell_type": "code",
   "execution_count": 16,
   "metadata": {},
   "outputs": [
    {
     "name": "stdout",
     "output_type": "stream",
     "text": [
      "200 [22.65435314 24.23398633] 2598.485194771946\n",
      "400 [38.33818317 39.85971648] 1202.8809749031782\n",
      "600 [49.45003441 49.86838708] 574.5427361804232\n",
      "800 [57.32945733 56.27239571] 286.11669628414336\n",
      "1000 [62.92118589 60.36507004] 150.3559439833569\n",
      "1200 [66.8923087  62.97707153] 84.41520167196907\n",
      "1400 [69.71439238 64.64152197] 51.165787647467745\n",
      "1600 [71.72113366 65.70030421] 33.68302362864588\n",
      "1800 [73.1488935  66.37246304] 24.079968181540774\n",
      "2000 [74.16523643 66.79819694] 18.5773635328158\n",
      "MSE для метода стохастического градиентного спуска c Ridge регуляризацией: [74.16523643 66.79819694] MSE: 204.855472195527 lambda: 0.001\n",
      "\n"
     ]
    }
   ],
   "source": [
    "w_sgd_Ridge, error_sgd_Ridge = eval_SGD_Ridge(X, y, iterations=2000, alpha=1e-3, lambda_=lambda_Ridge)\n",
    "y_pred_sgd_Ridge = np.dot(X, w_sgd_Ridge)\n",
    "err_sgd_Ridge = calc_mse(y, y_pred_sgd_Ridge)\n",
    "print(f'MSE для метода стохастического градиентного спуска c Ridge регуляризацией: {w_sgd_Ridge} MSE: {err_sgd_Ridge} lambda: {lambda_Ridge}\\n')"
   ]
  },
  {
   "cell_type": "markdown",
   "metadata": {},
   "source": [
    "Абсолютно странно и непонятно. но в обоих случаях использование регуляризации ведет к увеличению ошибки. Ну или у меня где-то ошибка в коде."
   ]
  }
 ],
 "metadata": {
  "colab": {
   "collapsed_sections": [],
   "name": "Lesson2.ipynb",
   "provenance": []
  },
  "kernelspec": {
   "display_name": "Python 3",
   "language": "python",
   "name": "python3"
  },
  "language_info": {
   "codemirror_mode": {
    "name": "ipython",
    "version": 3
   },
   "file_extension": ".py",
   "mimetype": "text/x-python",
   "name": "python",
   "nbconvert_exporter": "python",
   "pygments_lexer": "ipython3",
   "version": "3.8.5"
  },
  "toc": {
   "base_numbering": 1,
   "nav_menu": {},
   "number_sections": false,
   "sideBar": true,
   "skip_h1_title": true,
   "title_cell": "План урока",
   "title_sidebar": "План",
   "toc_cell": true,
   "toc_position": {
    "height": "calc(100% - 180px)",
    "left": "10px",
    "top": "150px",
    "width": "165px"
   },
   "toc_section_display": true,
   "toc_window_display": false
  }
 },
 "nbformat": 4,
 "nbformat_minor": 1
}
